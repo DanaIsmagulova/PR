{
 "cells": [
  {
   "cell_type": "code",
   "execution_count": null,
   "metadata": {
    "collapsed": true
   },
   "outputs": [],
   "source": [
    "import numpy as np\n",
    "import skfuzzy as fuzz\n",
    "from skfuzzy import control as ctrl\n",
    "quality = ctrl.Antecedent(np.arange(0, 11, 1), 'quality')\n",
    "service = ctrl.Antecedent(np.arange(0, 11, 1), 'service')\n",
    "tip     = ctrl.Consequent(np.arange(0, 26, 1), 'tip')\n",
    "interior = ctrl.Antecedent(np.arange(0, 11, 1), 'interior')\n",
    "quota = ctrl.Antecedent(np.arange(0, 11, 1), 'quota')\n",
    "quality.automf(5)\n",
    "service.automf(3)\n",
    "interior.automf(3)\n",
    "quota.automf(3)\n",
    "tip.automf(5)\n"
   ]
  },
  {
   "cell_type": "code",
   "execution_count": null,
   "metadata": {
    "collapsed": true
   },
   "outputs": [],
   "source": [
    "# You can see how these look with .view()\n",
    "%matplotlib inline\n",
    "quality.view()\n",
    "tip.view()"
   ]
  },
  {
   "cell_type": "code",
   "execution_count": null,
   "metadata": {
    "collapsed": true
   },
   "outputs": [],
   "source": [
    " rule1 = ctrl.Rule(quality['poor'] | service['poor'], tip['poor'])\n",
    "rule2 = ctrl.Rule(service['average'], tip['average'])\n",
    "rule3 = ctrl.Rule(service['good'] | quality['good'], tip['good'])\n",
    "rule4 = ctrl.Rule(quota['average'] | quality['decent'], tip['decent'])\n",
    "rule5 = ctrl.Rule(quota['good'] | interior['good'], tip['good'])\n",
    "rule6 = ctrl.Rule(quality['average'] | interior['poor'], tip['mediocre'])\n",
    "rule7 = ctrl.Rule(service['average'] | quota['average'], tip['average'])"
   ]
  },
  {
   "cell_type": "code",
   "execution_count": null,
   "metadata": {
    "collapsed": true
   },
   "outputs": [],
   "source": [
    "tipping_ctrl = ctrl.ControlSystem([rule1, rule2, rule3, rule4, rule5,rule6,rule7])\n",
    "tipping = ctrl.ControlSystemSimulation(tipping_ctrl)"
   ]
  },
  {
   "cell_type": "code",
   "execution_count": null,
   "metadata": {
    "collapsed": true
   },
   "outputs": [],
   "source": [
    "from ipywidgets import interact_manual\n",
    "\n",
    "@interact_manual\n",
    "def get_input(interior=5, quota=5, quality=5, service=5 ):    \n",
    "    tipping.input['quality'] = quality\n",
    "    tipping.input['service'] = service\n",
    "    tipping.input['quota'] = quota\n",
    "    tipping.input['interior'] = interior\n",
    "    tipping.compute()\n",
    "    print('Recommended tip',tipping.output['tip'])\n",
    "    tip.view(sim=tipping)"
   ]
  }
 ],
 "metadata": {
  "kernelspec": {
   "display_name": "Python 3",
   "language": "python",
   "name": "python3"
  },
  "language_info": {
   "codemirror_mode": {
    "name": "ipython",
    "version": 3
   },
   "file_extension": ".py",
   "mimetype": "text/x-python",
   "name": "python",
   "nbconvert_exporter": "python",
   "pygments_lexer": "ipython3",
   "version": "3.6.3"
  }
 },
 "nbformat": 4,
 "nbformat_minor": 2
}
